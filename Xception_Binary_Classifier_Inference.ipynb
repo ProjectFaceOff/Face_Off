{
  "nbformat": 4,
  "nbformat_minor": 0,
  "metadata": {
    "kernelspec": {
      "name": "python3",
      "display_name": "Python 3"
    },
    "language_info": {
      "pygments_lexer": "ipython3",
      "nbconvert_exporter": "python",
      "version": "3.6.4",
      "file_extension": ".py",
      "codemirror_mode": {
        "name": "ipython",
        "version": 3
      },
      "name": "python",
      "mimetype": "text/x-python"
    },
    "colab": {
      "name": "Xception Binary Classifier - Inference.ipynb",
      "provenance": [],
      "machine_shape": "hm"
    },
    "accelerator": "GPU"
  },
  "cells": [
    {
      "cell_type": "markdown",
      "metadata": {
        "id": "aKnfZKsdo82U",
        "colab_type": "text"
      },
      "source": [
        "# Inference for Xception baseline model\n",
        "### Forked from: https://www.kaggle.com/humananalog/inference-demo\n",
        "### View this kernal for training of this model: https://www.kaggle.com/greatgamedota/xception-binary-classifier-with-ffhq-training\n",
        "### This kernal takes ~3-3.5 hours to submit with GPU"
      ]
    },
    {
      "cell_type": "code",
      "metadata": {
        "id": "CCo_W1cZtnnX",
        "colab_type": "code",
        "colab": {
          "base_uri": "https://localhost:8080/",
          "height": 129
        },
        "outputId": "ecdfef26-6899-4175-a6e1-e36919b60ade"
      },
      "source": [
        "from google.colab import drive\n",
        "drive.mount('/content/drive')"
      ],
      "execution_count": 1,
      "outputs": [
        {
          "output_type": "stream",
          "text": [
            "Go to this URL in a browser: https://accounts.google.com/o/oauth2/auth?client_id=947318989803-6bn6qk8qdgf4n4g3pfee6491hc0brc4i.apps.googleusercontent.com&redirect_uri=urn%3aietf%3awg%3aoauth%3a2.0%3aoob&response_type=code&scope=email%20https%3a%2f%2fwww.googleapis.com%2fauth%2fdocs.test%20https%3a%2f%2fwww.googleapis.com%2fauth%2fdrive%20https%3a%2f%2fwww.googleapis.com%2fauth%2fdrive.photos.readonly%20https%3a%2f%2fwww.googleapis.com%2fauth%2fpeopleapi.readonly\n",
            "\n",
            "Enter your authorization code:\n",
            "··········\n",
            "Mounted at /content/drive\n"
          ],
          "name": "stdout"
        }
      ]
    },
    {
      "cell_type": "code",
      "metadata": {
        "id": "42lAqUTSubIS",
        "colab_type": "code",
        "colab": {}
      },
      "source": [
        "zip_path = '/content/drive/My Drive/Deepfake_Data/deepfake-detection-challenge.zip'\n",
        "!cp \"{zip_path}\" .\n",
        "!unzip -q deepfake-detection-challenge.zip\n",
        "!rm deepfake-detection-challenge.zip\n",
        "\n",
        "zip_path = '/content/drive/My Drive/Deepfake_Data/deepfakes-inference-demo.zip'\n",
        "!cp \"{zip_path}\" .\n",
        "!unzip -q deepfakes-inference-demo.zip\n",
        "!rm deepfakes-inference-demo.zip\n",
        "\n",
        "zip_path = '/content/drive/My Drive/Deepfake_Data/blazeface-pytorch.zip'\n",
        "!cp \"{zip_path}\" .\n",
        "!unzip -q blazeface-pytorch.zip\n",
        "!rm blazeface-pytorch.zip"
      ],
      "execution_count": 0,
      "outputs": []
    },
    {
      "cell_type": "code",
      "metadata": {
        "trusted": true,
        "id": "Wr9Ywwyyo82W",
        "colab_type": "code",
        "colab": {
          "base_uri": "https://localhost:8080/",
          "height": 35
        },
        "outputId": "aac73219-da3f-4876-d3e4-4fa872c17b7d"
      },
      "source": [
        "!pip install pytorchcv --quiet"
      ],
      "execution_count": 3,
      "outputs": [
        {
          "output_type": "stream",
          "text": [
            "\u001b[?25l\r\u001b[K     |▉                               | 10kB 23.4MB/s eta 0:00:01\r\u001b[K     |█▋                              | 20kB 3.1MB/s eta 0:00:01\r\u001b[K     |██▌                             | 30kB 4.5MB/s eta 0:00:01\r\u001b[K     |███▎                            | 40kB 2.9MB/s eta 0:00:01\r\u001b[K     |████▏                           | 51kB 3.6MB/s eta 0:00:01\r\u001b[K     |█████                           | 61kB 4.2MB/s eta 0:00:01\r\u001b[K     |█████▉                          | 71kB 4.9MB/s eta 0:00:01\r\u001b[K     |██████▋                         | 81kB 5.5MB/s eta 0:00:01\r\u001b[K     |███████▍                        | 92kB 6.1MB/s eta 0:00:01\r\u001b[K     |████████▎                       | 102kB 4.8MB/s eta 0:00:01\r\u001b[K     |█████████                       | 112kB 4.8MB/s eta 0:00:01\r\u001b[K     |██████████                      | 122kB 4.8MB/s eta 0:00:01\r\u001b[K     |██████████▊                     | 133kB 4.8MB/s eta 0:00:01\r\u001b[K     |███████████▋                    | 143kB 4.8MB/s eta 0:00:01\r\u001b[K     |████████████▍                   | 153kB 4.8MB/s eta 0:00:01\r\u001b[K     |█████████████▏                  | 163kB 4.8MB/s eta 0:00:01\r\u001b[K     |██████████████                  | 174kB 4.8MB/s eta 0:00:01\r\u001b[K     |██████████████▉                 | 184kB 4.8MB/s eta 0:00:01\r\u001b[K     |███████████████▊                | 194kB 4.8MB/s eta 0:00:01\r\u001b[K     |████████████████▌               | 204kB 4.8MB/s eta 0:00:01\r\u001b[K     |█████████████████▍              | 215kB 4.8MB/s eta 0:00:01\r\u001b[K     |██████████████████▏             | 225kB 4.8MB/s eta 0:00:01\r\u001b[K     |███████████████████             | 235kB 4.8MB/s eta 0:00:01\r\u001b[K     |███████████████████▉            | 245kB 4.8MB/s eta 0:00:01\r\u001b[K     |████████████████████▋           | 256kB 4.8MB/s eta 0:00:01\r\u001b[K     |█████████████████████▌          | 266kB 4.8MB/s eta 0:00:01\r\u001b[K     |██████████████████████▎         | 276kB 4.8MB/s eta 0:00:01\r\u001b[K     |███████████████████████▏        | 286kB 4.8MB/s eta 0:00:01\r\u001b[K     |████████████████████████        | 296kB 4.8MB/s eta 0:00:01\r\u001b[K     |████████████████████████▉       | 307kB 4.8MB/s eta 0:00:01\r\u001b[K     |█████████████████████████▋      | 317kB 4.8MB/s eta 0:00:01\r\u001b[K     |██████████████████████████▍     | 327kB 4.8MB/s eta 0:00:01\r\u001b[K     |███████████████████████████▎    | 337kB 4.8MB/s eta 0:00:01\r\u001b[K     |████████████████████████████    | 348kB 4.8MB/s eta 0:00:01\r\u001b[K     |█████████████████████████████   | 358kB 4.8MB/s eta 0:00:01\r\u001b[K     |█████████████████████████████▊  | 368kB 4.8MB/s eta 0:00:01\r\u001b[K     |██████████████████████████████▋ | 378kB 4.8MB/s eta 0:00:01\r\u001b[K     |███████████████████████████████▍| 389kB 4.8MB/s eta 0:00:01\r\u001b[K     |████████████████████████████████| 399kB 4.8MB/s \n",
            "\u001b[?25h"
          ],
          "name": "stdout"
        }
      ]
    },
    {
      "cell_type": "code",
      "metadata": {
        "_uuid": "8f2839f25d086af736a60e9eeb907d3b93b6e0e5",
        "_cell_guid": "b1076dfc-b9ad-4769-8c92-a6c4dae69d19",
        "trusted": true,
        "id": "Hv8N1jgyo82g",
        "colab_type": "code",
        "colab": {}
      },
      "source": [
        "import os, sys, time\n",
        "import cv2\n",
        "import numpy as np\n",
        "import pandas as pd\n",
        "\n",
        "import torch\n",
        "import torch.nn as nn\n",
        "import torch.nn.functional as F\n",
        "\n",
        "%matplotlib inline\n",
        "import matplotlib.pyplot as plt\n",
        "\n",
        "import warnings\n",
        "warnings.filterwarnings(\"ignore\")"
      ],
      "execution_count": 0,
      "outputs": []
    },
    {
      "cell_type": "code",
      "metadata": {
        "_uuid": "d629ff2d2480ee46fbb7e2d37f6b5fab8052498a",
        "_cell_guid": "79c7e3d0-c299-4dcb-8224-4455121ee9b0",
        "trusted": true,
        "id": "l49KeKGUo82r",
        "colab_type": "code",
        "colab": {
          "base_uri": "https://localhost:8080/",
          "height": 35
        },
        "outputId": "139ce7cc-4c56-45de-e772-f1cb9655e0bd"
      },
      "source": [
        "test_dir = \"deepfake-detection-challenge/test_videos/\"\n",
        "\n",
        "test_videos = sorted([x for x in os.listdir(test_dir) if x[-4:] == \".mp4\"])\n",
        "len(test_videos)"
      ],
      "execution_count": 5,
      "outputs": [
        {
          "output_type": "execute_result",
          "data": {
            "text/plain": [
              "400"
            ]
          },
          "metadata": {
            "tags": []
          },
          "execution_count": 5
        }
      ]
    },
    {
      "cell_type": "code",
      "metadata": {
        "trusted": true,
        "id": "57lz3gUuo822",
        "colab_type": "code",
        "colab": {}
      },
      "source": [
        "gpu = torch.device(\"cuda:0\" if torch.cuda.is_available() else \"cpu\")"
      ],
      "execution_count": 0,
      "outputs": []
    },
    {
      "cell_type": "code",
      "metadata": {
        "trusted": true,
        "id": "AtOjQdNdo828",
        "colab_type": "code",
        "colab": {}
      },
      "source": [
        "import sys\n",
        "sys.path.insert(0, \"blazeface-pytorch\")\n",
        "sys.path.insert(0, \"deepfakes-inference-demo\")"
      ],
      "execution_count": 0,
      "outputs": []
    },
    {
      "cell_type": "code",
      "metadata": {
        "trusted": true,
        "id": "i1ltVHaHo83C",
        "colab_type": "code",
        "colab": {}
      },
      "source": [
        "from blazeface import BlazeFace\n",
        "facedet = BlazeFace().to(gpu)\n",
        "facedet.load_weights(\"blazeface.pth\")\n",
        "facedet.load_anchors(\"anchors.npy\")\n",
        "_ = facedet.train(False)"
      ],
      "execution_count": 0,
      "outputs": []
    },
    {
      "cell_type": "code",
      "metadata": {
        "trusted": true,
        "id": "wn6XZg8ho83K",
        "colab_type": "code",
        "colab": {}
      },
      "source": [
        "from helpers.read_video_1 import VideoReader\n",
        "from helpers.face_extract_1 import FaceExtractor\n",
        "\n",
        "frames_per_video = 20\n",
        "\n",
        "video_reader = VideoReader()\n",
        "video_read_fn = lambda x: video_reader.read_frames(x, num_frames=frames_per_video)\n",
        "face_extractor = FaceExtractor(video_read_fn, facedet)"
      ],
      "execution_count": 0,
      "outputs": []
    },
    {
      "cell_type": "code",
      "metadata": {
        "trusted": true,
        "id": "f-7qliRdo83N",
        "colab_type": "code",
        "colab": {}
      },
      "source": [
        "input_size = 150"
      ],
      "execution_count": 0,
      "outputs": []
    },
    {
      "cell_type": "code",
      "metadata": {
        "trusted": true,
        "id": "tNHNlw6lo83S",
        "colab_type": "code",
        "colab": {}
      },
      "source": [
        "from torchvision.transforms import Normalize\n",
        "\n",
        "mean = [0.485, 0.456, 0.406]\n",
        "std = [0.229, 0.224, 0.225]\n",
        "normalize_transform = Normalize(mean, std)"
      ],
      "execution_count": 0,
      "outputs": []
    },
    {
      "cell_type": "code",
      "metadata": {
        "trusted": true,
        "id": "YYQgNCDzo83X",
        "colab_type": "code",
        "colab": {}
      },
      "source": [
        "def isotropically_resize_image(img, size, resample=cv2.INTER_AREA):\n",
        "    h, w = img.shape[:2]\n",
        "    if w > h:\n",
        "        h = h * size // w\n",
        "        w = size\n",
        "    else:\n",
        "        w = w * size // h\n",
        "        h = size\n",
        "\n",
        "    resized = cv2.resize(img, (w, h), interpolation=resample)\n",
        "    return resized\n",
        "\n",
        "\n",
        "def make_square_image(img):\n",
        "    h, w = img.shape[:2]\n",
        "    size = max(h, w)\n",
        "    t = 0\n",
        "    b = size - h\n",
        "    l = 0\n",
        "    r = size - w\n",
        "    return cv2.copyMakeBorder(img, t, b, l, r, cv2.BORDER_CONSTANT, value=0)"
      ],
      "execution_count": 0,
      "outputs": []
    },
    {
      "cell_type": "code",
      "metadata": {
        "trusted": true,
        "id": "WLnDnMW_o83c",
        "colab_type": "code",
        "colab": {}
      },
      "source": [
        "from pytorchcv.model_provider import get_model\n",
        "model = get_model(\"xception\", pretrained=False)\n",
        "model = nn.Sequential(*list(model.children())[:-1]) # Remove original output layer\n",
        "\n",
        "model[0].final_block.pool = nn.Sequential(nn.AdaptiveAvgPool2d(1))\n",
        "\n",
        "class Head(torch.nn.Module):\n",
        "  def __init__(self, in_f, out_f):\n",
        "    super(Head, self).__init__()\n",
        "    \n",
        "    self.f = nn.Flatten()\n",
        "    self.l = nn.Linear(in_f, 512)\n",
        "    self.d = nn.Dropout(0.5)\n",
        "    self.o = nn.Linear(512, out_f)\n",
        "    self.b1 = nn.BatchNorm1d(in_f)\n",
        "    self.b2 = nn.BatchNorm1d(512)\n",
        "    self.r = nn.ReLU()\n",
        "\n",
        "  def forward(self, x):\n",
        "    x = self.f(x)\n",
        "    x = self.b1(x)\n",
        "    x = self.d(x)\n",
        "\n",
        "    x = self.l(x)\n",
        "    x = self.r(x)\n",
        "    x = self.b2(x)\n",
        "    x = self.d(x)\n",
        "\n",
        "    out = self.o(x)\n",
        "    return out\n",
        "\n",
        "class FCN(torch.nn.Module):\n",
        "  def __init__(self, base, in_f):\n",
        "    super(FCN, self).__init__()\n",
        "    self.base = base\n",
        "    self.h1 = Head(in_f, 1)\n",
        "  \n",
        "  def forward(self, x):\n",
        "    x = self.base(x)\n",
        "    return self.h1(x)\n",
        "\n",
        "net = []\n",
        "model = FCN(model, 2048)\n",
        "model = model.cuda()\n",
        "model.load_state_dict(torch.load('/content/drive/My Drive/model.pth'))\n",
        "net.append(model)"
      ],
      "execution_count": 0,
      "outputs": []
    },
    {
      "cell_type": "markdown",
      "metadata": {
        "id": "E3IHYv1Ho83g",
        "colab_type": "text"
      },
      "source": [
        "## Prediction loop"
      ]
    },
    {
      "cell_type": "code",
      "metadata": {
        "trusted": true,
        "id": "O8qE33LSo83g",
        "colab_type": "code",
        "colab": {}
      },
      "source": [
        "def predict_on_video(video_path, batch_size):\n",
        "    try:\n",
        "        # Find the faces for N frames in the video.\n",
        "        faces = face_extractor.process_video(video_path)\n",
        "\n",
        "        # Only look at one face per frame.\n",
        "        face_extractor.keep_only_best_face(faces)\n",
        "        \n",
        "        if len(faces) > 0:\n",
        "            # NOTE: When running on the CPU, the batch size must be fixed\n",
        "            # or else memory usage will blow up. (Bug in PyTorch?)\n",
        "            x = np.zeros((batch_size, input_size, input_size, 3), dtype=np.uint8)\n",
        "\n",
        "            # If we found any faces, prepare them for the model.\n",
        "            n = 0\n",
        "            for frame_data in faces:\n",
        "                for face in frame_data[\"faces\"]:\n",
        "                    # Resize to the model's required input size.\n",
        "                    # We keep the aspect ratio intact and add zero\n",
        "                    # padding if necessary.                    \n",
        "                    resized_face = isotropically_resize_image(face, input_size)\n",
        "                    resized_face = make_square_image(resized_face)\n",
        "\n",
        "                    if n < batch_size:\n",
        "                        x[n] = resized_face\n",
        "                        n += 1\n",
        "                    else:\n",
        "                        print(\"WARNING: have %d faces but batch size is %d\" % (n, batch_size))\n",
        "                    \n",
        "                    # Test time augmentation: horizontal flips.\n",
        "                    # TODO: not sure yet if this helps or not\n",
        "                    #x[n] = cv2.flip(resized_face, 1)\n",
        "                    #n += 1\n",
        "\n",
        "            if n > 0:\n",
        "                x = torch.tensor(x, device=gpu).float()\n",
        "\n",
        "                # Preprocess the images.\n",
        "                x = x.permute((0, 3, 1, 2))\n",
        "\n",
        "                for i in range(len(x)):\n",
        "                    x[i] = normalize_transform(x[i] / 255.)\n",
        "#                     x[i] = x[i] / 255.\n",
        "\n",
        "                # Make a prediction, then take the average.\n",
        "                with torch.no_grad():\n",
        "                    y_pred = model(x)\n",
        "                    y_pred = torch.sigmoid(y_pred.squeeze())\n",
        "                    return y_pred[:n].mean().item()\n",
        "\n",
        "    except Exception as e:\n",
        "        print(\"Prediction error on video %s: %s\" % (video_path, str(e)))\n",
        "\n",
        "    return 0.5"
      ],
      "execution_count": 0,
      "outputs": []
    },
    {
      "cell_type": "code",
      "metadata": {
        "trusted": true,
        "id": "V3uWlZqbo83m",
        "colab_type": "code",
        "colab": {}
      },
      "source": [
        "from concurrent.futures import ThreadPoolExecutor\n",
        "\n",
        "def predict_on_video_set(videos, num_workers):\n",
        "    def process_file(i):\n",
        "        filename = videos[i]\n",
        "        y_pred = predict_on_video(os.path.join(test_dir, filename), batch_size=frames_per_video)\n",
        "        return y_pred\n",
        "\n",
        "    with ThreadPoolExecutor(max_workers=num_workers) as ex:\n",
        "        predictions = ex.map(process_file, range(len(videos)))\n",
        "\n",
        "    return list(predictions)"
      ],
      "execution_count": 0,
      "outputs": []
    },
    {
      "cell_type": "markdown",
      "metadata": {
        "id": "0iKrcVzXo83r",
        "colab_type": "text"
      },
      "source": [
        "The leaderboard submission must finish within 9 hours. With 4000 test videos, that is `9*60*60/4000 = 8.1` seconds per video. So if the average time per video is greater than ~8 seconds, the kernel will be too slow!"
      ]
    },
    {
      "cell_type": "code",
      "metadata": {
        "trusted": true,
        "id": "-jKHEKnpo83r",
        "colab_type": "code",
        "colab": {}
      },
      "source": [
        "speed_test = True"
      ],
      "execution_count": 0,
      "outputs": []
    },
    {
      "cell_type": "code",
      "metadata": {
        "trusted": true,
        "id": "BS9B26D0o83v",
        "colab_type": "code",
        "colab": {
          "base_uri": "https://localhost:8080/",
          "height": 35
        },
        "outputId": "44a9f27b-e3be-4051-9054-a5499cd81eba"
      },
      "source": [
        "if speed_test:\n",
        "    start_time = time.time()\n",
        "    speedtest_videos = test_videos[:5]\n",
        "    predictions = predict_on_video_set(speedtest_videos, num_workers=4)\n",
        "    elapsed = time.time() - start_time\n",
        "    print(\"Elapsed %f sec. Average per video: %f sec.\" % (elapsed, elapsed / len(speedtest_videos)))"
      ],
      "execution_count": 20,
      "outputs": [
        {
          "output_type": "stream",
          "text": [
            "Elapsed 11.105101 sec. Average per video: 2.221020 sec.\n"
          ],
          "name": "stdout"
        }
      ]
    },
    {
      "cell_type": "code",
      "metadata": {
        "trusted": true,
        "id": "fWqQ789uo831",
        "colab_type": "code",
        "colab": {
          "base_uri": "https://localhost:8080/",
          "height": 54
        },
        "outputId": "5a9aaeab-db33-43cc-b576-2ad27a334652"
      },
      "source": [
        "%%time\n",
        "model.eval()\n",
        "predictions = predict_on_video_set(test_videos, num_workers=4)"
      ],
      "execution_count": 21,
      "outputs": [
        {
          "output_type": "stream",
          "text": [
            "CPU times: user 44min 30s, sys: 50.4 s, total: 45min 20s\n",
            "Wall time: 11min 32s\n"
          ],
          "name": "stdout"
        }
      ]
    },
    {
      "cell_type": "code",
      "metadata": {
        "trusted": true,
        "id": "lnf_RY0Vo833",
        "colab_type": "code",
        "colab": {}
      },
      "source": [
        "submission_df = pd.DataFrame({\"filename\": test_videos, \"label\": predictions})\n",
        "submission_df.to_csv(\"submission.csv\", index=False)"
      ],
      "execution_count": 0,
      "outputs": []
    },
    {
      "cell_type": "code",
      "metadata": {
        "trusted": true,
        "id": "Ws_YPGe_o836",
        "colab_type": "code",
        "colab": {
          "base_uri": "https://localhost:8080/",
          "height": 206
        },
        "outputId": "1f9284aa-e384-49d3-fc0b-f7798b3b4674"
      },
      "source": [
        "submission_df.head()"
      ],
      "execution_count": 23,
      "outputs": [
        {
          "output_type": "execute_result",
          "data": {
            "text/html": [
              "<div>\n",
              "<style scoped>\n",
              "    .dataframe tbody tr th:only-of-type {\n",
              "        vertical-align: middle;\n",
              "    }\n",
              "\n",
              "    .dataframe tbody tr th {\n",
              "        vertical-align: top;\n",
              "    }\n",
              "\n",
              "    .dataframe thead th {\n",
              "        text-align: right;\n",
              "    }\n",
              "</style>\n",
              "<table border=\"1\" class=\"dataframe\">\n",
              "  <thead>\n",
              "    <tr style=\"text-align: right;\">\n",
              "      <th></th>\n",
              "      <th>filename</th>\n",
              "      <th>label</th>\n",
              "    </tr>\n",
              "  </thead>\n",
              "  <tbody>\n",
              "    <tr>\n",
              "      <th>0</th>\n",
              "      <td>aassnaulhq.mp4</td>\n",
              "      <td>0.993989</td>\n",
              "    </tr>\n",
              "    <tr>\n",
              "      <th>1</th>\n",
              "      <td>aayfryxljh.mp4</td>\n",
              "      <td>0.020836</td>\n",
              "    </tr>\n",
              "    <tr>\n",
              "      <th>2</th>\n",
              "      <td>acazlolrpz.mp4</td>\n",
              "      <td>0.779540</td>\n",
              "    </tr>\n",
              "    <tr>\n",
              "      <th>3</th>\n",
              "      <td>adohdulfwb.mp4</td>\n",
              "      <td>0.032759</td>\n",
              "    </tr>\n",
              "    <tr>\n",
              "      <th>4</th>\n",
              "      <td>ahjnxtiamx.mp4</td>\n",
              "      <td>0.829322</td>\n",
              "    </tr>\n",
              "  </tbody>\n",
              "</table>\n",
              "</div>"
            ],
            "text/plain": [
              "         filename     label\n",
              "0  aassnaulhq.mp4  0.993989\n",
              "1  aayfryxljh.mp4  0.020836\n",
              "2  acazlolrpz.mp4  0.779540\n",
              "3  adohdulfwb.mp4  0.032759\n",
              "4  ahjnxtiamx.mp4  0.829322"
            ]
          },
          "metadata": {
            "tags": []
          },
          "execution_count": 23
        }
      ]
    },
    {
      "cell_type": "code",
      "metadata": {
        "trusted": true,
        "id": "sTa8yMtoo839",
        "colab_type": "code",
        "colab": {
          "base_uri": "https://localhost:8080/",
          "height": 201
        },
        "outputId": "33346ab0-ad2d-4e0c-f3d1-1e1fea86b5f6"
      },
      "source": [
        "predictions[:10]"
      ],
      "execution_count": 24,
      "outputs": [
        {
          "output_type": "execute_result",
          "data": {
            "text/plain": [
              "[0.9939891695976257,\n",
              " 0.02083555795252323,\n",
              " 0.779539942741394,\n",
              " 0.03275921568274498,\n",
              " 0.8293218612670898,\n",
              " 0.6453460454940796,\n",
              " 0.7182217836380005,\n",
              " 0.9944658279418945,\n",
              " 0.803548276424408,\n",
              " 0.2636297345161438]"
            ]
          },
          "metadata": {
            "tags": []
          },
          "execution_count": 24
        }
      ]
    },
    {
      "cell_type": "code",
      "metadata": {
        "id": "R11bx6DM5vnA",
        "colab_type": "code",
        "colab": {}
      },
      "source": [
        "!cp submission.csv '/content/drive/My Drive/submission.csv'"
      ],
      "execution_count": 0,
      "outputs": []
    }
  ]
}