{
 "nbformat": 4,
 "nbformat_minor": 2,
 "metadata": {
  "language_info": {
   "name": "python",
   "codemirror_mode": {
    "name": "ipython",
    "version": 3
   },
   "version": "3.7.6-final"
  },
  "orig_nbformat": 2,
  "file_extension": ".py",
  "mimetype": "text/x-python",
  "name": "python",
  "npconvert_exporter": "python",
  "pygments_lexer": "ipython3",
  "version": 3,
  "kernelspec": {
   "name": "python37664bittfcondab594cad82433482aa375903a9d34bbdd",
   "display_name": "Python 3.7.6 64-bit ('tf': conda)"
  }
 },
 "cells": [
  {
   "cell_type": "code",
   "execution_count": null,
   "metadata": {},
   "outputs": [],
   "source": [
    "# Importing the required libraries\n",
    "\n",
    "import cv2\n",
    "import numpy as np\n",
    "import pandas as pd\n",
    "import os\n",
    "import glob\n",
    "import pickle\n",
    "import time\n",
    "from tensorflow.keras.applications.inception_v3 import InceptionV3, preprocess_input\n",
    "from tensorflow.keras.models import Model\n",
    "from tensorflow.keras.layers import Input\n",
    "from tensorflow.keras.preprocessing import image"
   ]
  },
  {
   "cell_type": "code",
   "execution_count": null,
   "metadata": {},
   "outputs": [],
   "source": [
    "import tensorflow as tf\n",
    "print('Tensorflow version:', tf.__version__)\n",
    "print('OpenCV version:', cv2.__version__)"
   ]
  },
  {
   "cell_type": "code",
   "execution_count": null,
   "metadata": {},
   "outputs": [],
   "source": [
    "input_path = 'D:\\\\'\n",
    "train_dir = glob.glob(input_path + 'train_sample_videos\\\\*.mp4')"
   ]
  },
  {
   "cell_type": "code",
   "execution_count": null,
   "metadata": {},
   "outputs": [],
   "source": [
    "df_train = pd.read_json(input_path + 'train_sample_videos\\\\metadata.json').transpose()\n",
    "df_train.head()"
   ]
  },
  {
   "cell_type": "code",
   "execution_count": null,
   "metadata": {},
   "outputs": [],
   "source": [
    "df_train.label.value_counts().plot.bar()"
   ]
  },
  {
   "cell_type": "code",
   "execution_count": null,
   "metadata": {},
   "outputs": [],
   "source": [
    "df_train.head()"
   ]
  },
  {
   "cell_type": "code",
   "execution_count": null,
   "metadata": {},
   "outputs": [],
   "source": [
    "i = 0\n",
    "for ind in df_train.index: \n",
    "    if(i > 243):\n",
    "        break\n",
    "    if(df_train['label'][ind] == 'FAKE'):\n",
    "        i += 1\n",
    "        train_dir.remove(input_path + 'train_sample_videos\\\\' + ind)"
   ]
  },
  {
   "cell_type": "code",
   "execution_count": null,
   "metadata": {},
   "outputs": [],
   "source": [
    "len(train_dir)"
   ]
  },
  {
   "cell_type": "code",
   "execution_count": null,
   "metadata": {},
   "outputs": [],
   "source": [
    "# Taking the base model as Inception V3 and initializing its weight with imagenet\n",
    "\n",
    "# Enable internet on kernel settings\n",
    "input_tensor = Input(shape = (229, 229, 3))\n",
    "cnn_model = InceptionV3(input_tensor = input_tensor, weights = 'imagenet', include_top = False, pooling = 'avg')\n",
    "cnn_model.summary()\n",
    ""
   ]
  },
  {
   "cell_type": "code",
   "execution_count": null,
   "metadata": {},
   "outputs": [],
   "source": [
    "fpv = 5"
   ]
  },
  {
   "cell_type": "code",
   "execution_count": 54,
   "metadata": {},
   "outputs": [],
   "source": [
    "# Creating 40 frames per video, resizing it to (229, 229, 3) and feeding it to Pretrained Inception-V3 to extract features\n",
    "# Extracted features are stored in cnn_output\n",
    "\n",
    "t = time.time()\n",
    "cnn_output = {}\n",
    "# count1 = 0\n",
    "for v in train_dir:\n",
    "    t1 = time.time()\n",
    "    folder_name = v.split('\\\\')[2]\n",
    "    cap = cv2.VideoCapture(v)\n",
    "    count = 0\n",
    "    while count < fpv:\n",
    "        cap.set(cv2.CAP_PROP_POS_MSEC,((count * 30) + 5000))   \n",
    "        ret, frame = cap.read()\n",
    "        frame = cv2.resize(frame, (229, 229))\n",
    "        x = image.img_to_array(frame)\n",
    "        x = np.expand_dims(x, axis = 0)\n",
    "        x = preprocess_input(x)\n",
    "        result = cnn_model.predict(x)\n",
    "        if folder_name not in cnn_output.keys():\n",
    "            cnn_output[folder_name] = []\n",
    "        cnn_output[folder_name].append(list(result))\n",
    "        count = count + 1\n",
    "#     count1 += 1\n",
    "#     print('Elapsed: ', time.time() - t1, ' | ', count1, '/', len(train_dir), ' | ', v)\n",
    "print('Total elapsed: ', time.time() - t)"
   ]
  },
  {
   "cell_type": "code",
   "execution_count": null,
   "metadata": {},
   "outputs": [],
   "source": [
    "# Saving the cnn_output\n",
    "\n",
    "os.mknod('cnn_output.txt')\n",
    "with open('cnn_output.txt', 'wb') as f:\n",
    "    pickle.dump(cnn_output, f)"
   ]
  }
 ]
}